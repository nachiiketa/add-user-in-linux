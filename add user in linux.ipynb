{
  "nbformat": 4,
  "nbformat_minor": 0,
  "metadata": {
    "colab": {
      "provenance": []
    },
    "kernelspec": {
      "name": "python3",
      "display_name": "Python 3"
    },
    "language_info": {
      "name": "python"
    }
  },
  "cells": [
    {
      "cell_type": "markdown",
      "source": [
        "How do you create a user account?\n",
        "\n",
        "```\n",
        "sudo useradd username\n",
        "sudo passwd password\n",
        "\n",
        "```\n",
        "\n",
        "\n",
        "\n"
      ],
      "metadata": {
        "id": "ZguFYTqv7soD"
      }
    },
    {
      "cell_type": "code",
      "source": [
        "%%bash\n",
        "\n",
        "# Create a new user with a home directory\n",
        "sudo useradd -m username\n",
        "\n",
        "# Set the password for the new user\n",
        "echo \"username:password123\" | sudo chpasswd\n",
        "\n",
        "# Verify the user was created\n",
        "id username"
      ],
      "metadata": {
        "colab": {
          "base_uri": "https://localhost:8080/"
        },
        "id": "rrR0SOkwUDZM",
        "outputId": "2ef32825-e1f2-4183-fe79-55d00f2e92ab"
      },
      "execution_count": null,
      "outputs": [
        {
          "output_type": "stream",
          "name": "stdout",
          "text": [
            "uid=1000(username) gid=1000(username) groups=1000(username)\n"
          ]
        },
        {
          "output_type": "stream",
          "name": "stderr",
          "text": [
            "useradd: user 'username' already exists\n"
          ]
        }
      ]
    }
  ]
}
